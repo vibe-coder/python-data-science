{
 "cells": [
  {
   "cell_type": "code",
   "execution_count": 37,
   "id": "1a20b63d-b5bb-45cf-bbd6-571a4f18f4bd",
   "metadata": {},
   "outputs": [],
   "source": [
    "import pandas as pd\n",
    "import numpy as np\n",
    "\n",
    "\n",
    "player_df = pd.read_csv(\"/Users/davidirinyemi/Documents/code/python-data-science/week-7/data/epl_player_data.csv\")\n",
    "team_df = pd.read_csv(\"/Users/davidirinyemi/Documents/code/python-data-science/week-7/data/epl_team_data.csv\")\n"
   ]
  },
  {
   "cell_type": "markdown",
   "id": "dff0fef0-a069-4630-aa3e-e7bd6ac7a6f7",
   "metadata": {},
   "source": [
    "# Part 1"
   ]
  },
  {
   "cell_type": "markdown",
   "id": "8eec994f-c9dc-4fe2-8e28-8991ba9a201d",
   "metadata": {},
   "source": [
    "# Examining the data sctructure (spae, columns, data types) of both datasets"
   ]
  },
  {
   "cell_type": "code",
   "execution_count": null,
   "id": "19f23a82-eac7-4c61-a984-e914fd3c9ee2",
   "metadata": {},
   "outputs": [],
   "source": [
    "\n",
    "print(\"Player DataFrame shape:\", player_df.shape)\n",
    "print(\"Team DataFrame shape:\", team_df.shape)\n",
    "\n",
    "print(\"Player DataFrame data types:\\n\", player_df.dtypes)\n",
    "print(\"Team DataFrame data types:\\n\", team_df.dtypes)"
   ]
  },
  {
   "cell_type": "markdown",
   "id": "168defb9-0b55-42de-b05d-a42e9d721dc3",
   "metadata": {},
   "source": [
    "# Checking and handling any missing values appropriately in both datasets"
   ]
  },
  {
   "cell_type": "code",
   "execution_count": null,
   "id": "70c33c63-3d41-4f9a-bca4-796084a64432",
   "metadata": {},
   "outputs": [],
   "source": [
    "print(\"Missing values in player_df:\")\n",
    "print(player_df.isnull().sum())\n",
    "\n",
    "print(\"\\nMissing values in team_df:\")\n",
    "print(team_df.isnull().sum())"
   ]
  },
  {
   "cell_type": "markdown",
   "id": "2a083a0d-cd6e-47df-a4f7-8f1788742cc8",
   "metadata": {},
   "source": [
    "# Performing basic data cleaning: \n",
    "# Replaced all undersccore to space\n",
    "# Ensured all numerical columns are numeric\n",
    "# Removed duplicates if there are any\n",
    "# Removed any spaces at the beginning and at the end of column"
   ]
  },
  {
   "cell_type": "code",
   "execution_count": null,
   "id": "d68feb7e-3e34-4c71-9669-d88181eed0bd",
   "metadata": {},
   "outputs": [],
   "source": [
    "player_df.columns = player_df.columns.str.strip().str.lower().str.replace('_', ' ')\n",
    "team_df.columns = team_df.columns.str.strip().str.lower().str.replace('_', ' ')\n",
    "\n",
    "player_df['goals'] = pd.to_numeric(player_df['goals'], errors='coerce')\n",
    "\n",
    "player_df = player_df.drop_duplicates()\n",
    "team_df = team_df.drop_duplicates()\n",
    "\n",
    "player_df['player_name'] = player_df['player_name'].str.strip()\n",
    "team_df['team_name'] = team_df['team_name'].str.strip()\n",
    "\n",
    "print(player_df, team_df)"
   ]
  },
  {
   "cell_type": "markdown",
   "id": "e7ab12e9-a2c5-4249-8e9c-78b6d71ffd8f",
   "metadata": {},
   "source": [
    "# Calculating Summary statisticsfor the key numerical columns in both dataset"
   ]
  },
  {
   "cell_type": "code",
   "execution_count": null,
   "id": "645f1b3e-22c6-4351-9f45-244b4190ae18",
   "metadata": {},
   "outputs": [],
   "source": [
    "player_df[['goals', 'assists']].describe()\n",
    "\n",
    "disciplinary_cols_player = [col for col in player_df.columns if 'card' in col or 'foul' in col]\n",
    "disciplinary_cols_team = [col for col in team_df.columns if 'card' in col or 'foul' in col]\n",
    "\n",
    "print(\"Player Disciplinary Metrics Summary \")\n",
    "print(player_df[disciplinary_cols_player].describe())\n",
    "print(\"\\n\")\n",
    "print(\"Team Disciplinary Metrics Summary \")\n",
    "print(team_df[disciplinary_cols_team].describe())"
   ]
  },
  {
   "cell_type": "markdown",
   "id": "f7d4aca7-3dfa-4e33-90a4-de36b5516290",
   "metadata": {},
   "source": [
    "# Part 2"
   ]
  },
  {
   "cell_type": "markdown",
   "id": "1ad0e0c0-2bab-4c0a-ba1e-2ce15222b9fb",
   "metadata": {},
   "source": [
    "# Calculating total points accumulated"
   ]
  },
  {
   "cell_type": "code",
   "execution_count": 49,
   "id": "4768978e-5151-4d7c-add1-4d6e9ea49da9",
   "metadata": {},
   "outputs": [
    {
     "name": "stdout",
     "output_type": "stream",
     "text": [
      "                  team_name  wins  draws  losses  total_points\n",
      "0           Manchester City    28      7       3            91\n",
      "1                   Arsenal    28      5       5            89\n",
      "2                 Liverpool    24     10       4            82\n",
      "3               Aston Villa    20      8      10            68\n",
      "4         Tottenham Hotspur    20      6      12            66\n",
      "5                   Chelsea    18      9      11            63\n",
      "6          Newcastle United    18      6      14            60\n",
      "7         Manchester United    18      6      14            60\n",
      "8           West Ham United    14     10      14            52\n",
      "9            Crystal Palace    13     10      15            49\n",
      "10   Brighton & Hove Albion    12     12      14            48\n",
      "11          AFC Bournemouth    13      9      16            48\n",
      "12                   Fulham    13      8      17            47\n",
      "13  Wolverhampton Wanderers    13      7      18            46\n",
      "14                  Everton    13      9      16            48\n",
      "15                Brentford    10      9      19            39\n",
      "16        Nottingham Forest     9      9      20            36\n",
      "17               Luton Town     6      8      24            26\n",
      "18                  Burnley     5      9      24            24\n",
      "19         Sheffield United     3      7      28            16\n",
      "Max points: 91\n",
      "Min points: 16\n",
      "Average points: 52.9\n",
      "Standard deviation: 19.715222545028496\n"
     ]
    }
   ],
   "source": [
    "team_df['total_points'] = (\n",
    "    np.array(team_df['wins']) * 3 +\n",
    "    np.array(team_df['draws']) * 1\n",
    ")\n",
    "\n",
    "print(team_df[['team_name', 'wins', 'draws', 'losses', 'total_points']])\n",
    "\n",
    "points = np.array(team_df['total_points'])\n",
    "\n",
    "print(\"Max points:\", np.max(points))\n",
    "print(\"Min points:\", np.min(points))\n",
    "print(\"Average points:\", np.mean(points))\n",
    "print(\"Standard deviation:\", np.std(points))\n"
   ]
  },
  {
   "cell_type": "markdown",
   "id": "464acccf-4291-40b8-9661-5bef4a07785f",
   "metadata": {},
   "source": [
    "# Calculating Average goals scored and conceded per match"
   ]
  },
  {
   "cell_type": "code",
   "execution_count": 51,
   "id": "551103e7-a887-4780-8807-acb2a34d9cd3",
   "metadata": {},
   "outputs": [
    {
     "name": "stdout",
     "output_type": "stream",
     "text": [
      "                  team_name  avg_goals_scored_per_match  \\\n",
      "0           Manchester City                    2.526316   \n",
      "1                   Arsenal                    2.394737   \n",
      "2                 Liverpool                    2.263158   \n",
      "3               Aston Villa                    2.000000   \n",
      "4         Tottenham Hotspur                    1.947368   \n",
      "5                   Chelsea                    2.026316   \n",
      "6          Newcastle United                    2.236842   \n",
      "7         Manchester United                    1.500000   \n",
      "8           West Ham United                    1.578947   \n",
      "9            Crystal Palace                    1.500000   \n",
      "10   Brighton & Hove Albion                    1.447368   \n",
      "11          AFC Bournemouth                    1.421053   \n",
      "12                   Fulham                    1.447368   \n",
      "13  Wolverhampton Wanderers                    1.315789   \n",
      "14                  Everton                    1.052632   \n",
      "15                Brentford                    1.473684   \n",
      "16        Nottingham Forest                    1.289474   \n",
      "17               Luton Town                    1.368421   \n",
      "18                  Burnley                    1.078947   \n",
      "19         Sheffield United                    0.921053   \n",
      "\n",
      "    avg_goals_conceded_per_match  \n",
      "0                       0.894737  \n",
      "1                       0.763158  \n",
      "2                       1.078947  \n",
      "3                       1.605263  \n",
      "4                       1.605263  \n",
      "5                       1.657895  \n",
      "6                       1.631579  \n",
      "7                       1.526316  \n",
      "8                       1.947368  \n",
      "9                       1.526316  \n",
      "10                      1.631579  \n",
      "11                      1.763158  \n",
      "12                      1.605263  \n",
      "13                      1.710526  \n",
      "14                      1.342105  \n",
      "15                      1.710526  \n",
      "16                      1.763158  \n",
      "17                      2.236842  \n",
      "18                      2.052632  \n",
      "19                      2.736842  \n"
     ]
    }
   ],
   "source": [
    "team_df[['goals_scored', 'goals_conceded', 'wins', 'draws', 'losses']]\n",
    "\n",
    "team_df['matches_played'] = (\n",
    "    team_df['wins'] + team_df['draws'] + team_df['losses']\n",
    ")\n",
    "\n",
    "team_df['avg_goals_scored_per_match'] = team_df['goals_scored'] / team_df['matches_played']\n",
    "team_df['avg_goals_conceded_per_match'] = team_df['goals_conceded'] / team_df['matches_played']\n",
    "\n",
    "print(team_df[['team_name', 'avg_goals_scored_per_match', 'avg_goals_conceded_per_match']])"
   ]
  },
  {
   "cell_type": "markdown",
   "id": "4573411f-6a78-4753-991b-a37743a3643d",
   "metadata": {},
   "source": [
    "# Home vs Away performance comparison"
   ]
  },
  {
   "cell_type": "code",
   "execution_count": 57,
   "id": "29dada9e-7917-4913-8cbd-7dc667feab6d",
   "metadata": {},
   "outputs": [
    {
     "name": "stdout",
     "output_type": "stream",
     "text": [
      "                  team_name  avg_home_goals_scored  avg_away_goals_scored  \\\n",
      "0           Manchester City               3.052632               2.000000   \n",
      "1                   Arsenal               2.894737               1.894737   \n",
      "2                 Liverpool               2.894737               1.631579   \n",
      "3               Aston Villa               2.315789               1.684211   \n",
      "4         Tottenham Hotspur               2.105263               1.789474   \n",
      "5                   Chelsea               2.368421               1.684211   \n",
      "6          Newcastle United               2.631579               1.842105   \n",
      "7         Manchester United               1.578947               1.421053   \n",
      "8           West Ham United               1.842105               1.315789   \n",
      "9            Crystal Palace               1.684211               1.315789   \n",
      "10   Brighton & Hove Albion               1.578947               1.315789   \n",
      "11          AFC Bournemouth               1.578947               1.263158   \n",
      "12                   Fulham               1.684211               1.210526   \n",
      "13  Wolverhampton Wanderers               1.473684               1.157895   \n",
      "14                  Everton               1.157895               0.947368   \n",
      "15                Brentford               1.684211               1.263158   \n",
      "16        Nottingham Forest               1.473684               1.105263   \n",
      "17               Luton Town               1.473684               1.263158   \n",
      "18                  Burnley               1.052632               1.105263   \n",
      "19         Sheffield United               0.947368               0.894737   \n",
      "\n",
      "    avg_home_goals_conceded  avg_away_goals_conceded  home_win_ratio  \\\n",
      "0                  0.894737                 0.894737        0.842105   \n",
      "1                  0.736842                 0.789474        0.789474   \n",
      "2                  1.052632                 1.105263        0.894737   \n",
      "3                  1.473684                 1.736842        0.684211   \n",
      "4                  1.473684                 1.736842        0.578947   \n",
      "5                  1.421053                 1.894737        0.631579   \n",
      "6                  1.473684                 1.789474        0.631579   \n",
      "7                  1.473684                 1.578947        0.526316   \n",
      "8                  1.684211                 2.210526        0.526316   \n",
      "9                  1.315789                 1.736842        0.421053   \n",
      "10                 1.473684                 1.789474        0.368421   \n",
      "11                 1.578947                 1.947368        0.473684   \n",
      "12                 1.526316                 1.684211        0.421053   \n",
      "13                 1.578947                 1.842105        0.368421   \n",
      "14                 1.263158                 1.421053        0.421053   \n",
      "15                 1.578947                 1.842105        0.368421   \n",
      "16                 1.684211                 1.842105        0.315789   \n",
      "17                 2.000000                 2.473684        0.210526   \n",
      "18                 1.842105                 2.263158        0.157895   \n",
      "19                 2.631579                 2.842105        0.105263   \n",
      "\n",
      "    away_win_ratio  \n",
      "0         0.631579  \n",
      "1         0.684211  \n",
      "2         0.368421  \n",
      "3         0.368421  \n",
      "4         0.473684  \n",
      "5         0.315789  \n",
      "6         0.315789  \n",
      "7         0.421053  \n",
      "8         0.210526  \n",
      "9         0.263158  \n",
      "10        0.263158  \n",
      "11        0.210526  \n",
      "12        0.263158  \n",
      "13        0.315789  \n",
      "14        0.263158  \n",
      "15        0.157895  \n",
      "16        0.157895  \n",
      "17        0.105263  \n",
      "18        0.105263  \n",
      "19        0.052632  \n"
     ]
    }
   ],
   "source": [
    "team_df[\"home_matches\"] = team_df[\"matches_played\"] / 2\n",
    "team_df[\"away_matches\"] = team_df[\"matches_played\"] / 2\n",
    "\n",
    "team_df['avg_home_goals_scored'] = team_df['home_goals_scored'] / team_df['home_matches']\n",
    "team_df['avg_away_goals_scored'] = team_df['away_goals_scored'] / team_df['away_matches']\n",
    "\n",
    "team_df['avg_home_goals_conceded'] = team_df['home_goals_conceded'] / team_df['home_matches']\n",
    "team_df['avg_away_goals_conceded'] = team_df['away_goals_conceded'] / team_df['away_matches']\n",
    "\n",
    "team_df['home_win_ratio'] = team_df['home_wins'] / team_df['home_matches']\n",
    "team_df['away_win_ratio'] = team_df['away_wins'] / team_df['away_matches']\n",
    "\n",
    "comparison_cols = [\n",
    "    'team_name',\n",
    "    'avg_home_goals_scored', 'avg_away_goals_scored',\n",
    "    'avg_home_goals_conceded', 'avg_away_goals_conceded',\n",
    "    'home_win_ratio', 'away_win_ratio'\n",
    "]\n",
    "\n",
    "print(team_df[comparison_cols])"
   ]
  },
  {
   "cell_type": "markdown",
   "id": "271a1dc7-de67-4a97-8548-28c24fadbef8",
   "metadata": {},
   "source": [
    "# Calculating total fouls committed and suffered"
   ]
  },
  {
   "cell_type": "code",
   "execution_count": 71,
   "id": "a1c77358-a891-4206-ac74-1b8c54c90214",
   "metadata": {},
   "outputs": [
    {
     "name": "stdout",
     "output_type": "stream",
     "text": [
      "                  team_name  fouls_committed  fouls_suffered\n",
      "0           AFC Bournemouth              196             185\n",
      "1                   Arsenal              267             275\n",
      "2               Aston Villa              385             287\n",
      "3                 Brentford              264             222\n",
      "4    Brighton & Hove Albion              108             130\n",
      "5                   Burnley              226             229\n",
      "6                   Chelsea              464             467\n",
      "7            Crystal Palace              309             317\n",
      "8                   Everton              267             237\n",
      "9                    Fulham              204             186\n",
      "10                Liverpool              349             260\n",
      "11               Luton Town              232             233\n",
      "12          Manchester City              275             315\n",
      "13        Manchester United              170             153\n",
      "14         Newcastle United              214             225\n",
      "15        Nottingham Forest              297             224\n",
      "16         Sheffield United              217             177\n",
      "17        Tottenham Hotspur              295             346\n",
      "18          West Ham United              189             159\n",
      "19  Wolverhampton Wanderers              152             162\n"
     ]
    }
   ],
   "source": [
    "team_fouls = player_df.groupby('team_name')[['fouls_committed', 'fouls_suffered']].sum().reset_index()\n",
    "print(team_fouls)\n",
    "\n"
   ]
  },
  {
   "cell_type": "markdown",
   "id": "4e5f63c8-4480-49a1-b8d3-9f590b4d60d3",
   "metadata": {},
   "source": [
    "# Calculating Total Yellow cards, red card, and match ban per team and player"
   ]
  },
  {
   "cell_type": "code",
   "execution_count": 73,
   "id": "a55de007-cccf-4a64-adc9-03482a7a7486",
   "metadata": {},
   "outputs": [
    {
     "name": "stdout",
     "output_type": "stream",
     "text": [
      "        player_name          team_name  yellow_cards  red_cards  total_cards  \\\n",
      "0    Erling Haaland    Manchester City             2          0            2   \n",
      "1       Bukayo Saka            Arsenal             4          0            4   \n",
      "2     Mohamed Salah          Liverpool             1          0            1   \n",
      "3     Ollie Watkins        Aston Villa             6          0            6   \n",
      "4        Phil Foden    Manchester City             2          0            2   \n",
      "..              ...                ...           ...        ...          ...   \n",
      "537  Harry Williams  Manchester United             1          0            1   \n",
      "538     Louis White            Chelsea             4          0            4   \n",
      "539     Omar Turner  Tottenham Hotspur             0          0            0   \n",
      "540    Dylan Morris            Everton             0          0            0   \n",
      "541   Henry Schmidt          Liverpool             0          0            0   \n",
      "\n",
      "     games_suspended  \n",
      "0                  0  \n",
      "1                  0  \n",
      "2                  0  \n",
      "3                  0  \n",
      "4                  0  \n",
      "..               ...  \n",
      "537                0  \n",
      "538                0  \n",
      "539                0  \n",
      "540                0  \n",
      "541                0  \n",
      "\n",
      "[542 rows x 6 columns]\n",
      "                  team_name  yellow_cards  red_cards  games_suspended  \\\n",
      "0           AFC Bournemouth            28          0                1   \n",
      "1                   Arsenal            26          1                2   \n",
      "2               Aston Villa            48          2                5   \n",
      "3                 Brentford            30          0                2   \n",
      "4    Brighton & Hove Albion             9          1                1   \n",
      "5                   Burnley            28          1                3   \n",
      "6                   Chelsea            67          3                8   \n",
      "7            Crystal Palace            50          0                6   \n",
      "8                   Everton            28          0                2   \n",
      "9                    Fulham            31          4                5   \n",
      "10                Liverpool            43          0                4   \n",
      "11               Luton Town            26          0                1   \n",
      "12          Manchester City            41          0                3   \n",
      "13        Manchester United            21          0                1   \n",
      "14         Newcastle United            20          0                0   \n",
      "15        Nottingham Forest            39          0                2   \n",
      "16         Sheffield United            32          2                5   \n",
      "17        Tottenham Hotspur            29          2                6   \n",
      "18          West Ham United            21          2                3   \n",
      "19  Wolverhampton Wanderers            24          0                3   \n",
      "\n",
      "    total_cards  \n",
      "0            28  \n",
      "1            27  \n",
      "2            50  \n",
      "3            30  \n",
      "4            10  \n",
      "5            29  \n",
      "6            70  \n",
      "7            50  \n",
      "8            28  \n",
      "9            35  \n",
      "10           43  \n",
      "11           26  \n",
      "12           41  \n",
      "13           21  \n",
      "14           20  \n",
      "15           39  \n",
      "16           34  \n",
      "17           31  \n",
      "18           23  \n",
      "19           24  \n"
     ]
    }
   ],
   "source": [
    "player_df['total_cards'] = player_df['yellow_cards'] + player_df['red_cards']\n",
    "print(player_df[['player_name', 'team_name', 'yellow_cards', 'red_cards', 'total_cards', 'games_suspended']])\n",
    "\n",
    "team_card_stats = player_df.groupby('team_name')[['yellow_cards', 'red_cards', 'games_suspended']].sum().reset_index()\n",
    "team_card_stats['total_cards'] = team_card_stats['yellow_cards'] + team_card_stats['red_cards']\n",
    "\n",
    "print(team_card_stats)"
   ]
  },
  {
   "cell_type": "markdown",
   "id": "525b6a87-9b67-47c5-ae1f-dea25997fb2b",
   "metadata": {},
   "source": [
    "# Creating a new column for performance rating"
   ]
  },
  {
   "cell_type": "code",
   "execution_count": 75,
   "id": "9e2001c6-e8cc-4ffd-a878-60c0801ba40e",
   "metadata": {},
   "outputs": [
    {
     "name": "stdout",
     "output_type": "stream",
     "text": [
      "                  team_name  performance_rating\n",
      "0           Manchester City               231.8\n",
      "1                   Arsenal               227.8\n",
      "2                 Liverpool               198.2\n",
      "3               Aston Villa               132.7\n",
      "4         Tottenham Hotspur               117.7\n",
      "6          Newcastle United               112.4\n",
      "5                   Chelsea               101.1\n",
      "7         Manchester United                98.1\n",
      "9            Crystal Palace                96.1\n",
      "8           West Ham United                83.8\n",
      "10   Brighton & Hove Albion                83.4\n",
      "14                  Everton                81.7\n",
      "12                   Fulham                73.7\n",
      "11          AFC Bournemouth                65.4\n",
      "13  Wolverhampton Wanderers                54.5\n",
      "15                Brentford                54.5\n",
      "16        Nottingham Forest                48.4\n",
      "17               Luton Town                 7.0\n",
      "18                  Burnley                 5.6\n",
      "19         Sheffield United               -42.2\n"
     ]
    }
   ],
   "source": [
    "team_df['total_points'] = team_df['wins'] * 3 + team_df['draws'] * 1\n",
    "\n",
    "team_df['performance_rating'] = (\n",
    "    team_df['total_points'] * 2 +\n",
    "    team_df['goals_scored'] * 0.5 -\n",
    "    team_df['goals_conceded'] * 0.3 +\n",
    "    team_df['clean_sheets'] * 3 -\n",
    "    team_df['red_cards'] * 2 -\n",
    "    team_df['yellow_cards'] * 0.5\n",
    ")\n",
    "\n",
    "print(team_df[['team_name', 'performance_rating']].sort_values(by='performance_rating', ascending=False))"
   ]
  },
  {
   "cell_type": "markdown",
   "id": "a69fcfb0-c5eb-4eec-b898-a21f1309b721",
   "metadata": {},
   "source": [
    "# 4 Identify"
   ]
  },
  {
   "cell_type": "code",
   "execution_count": 92,
   "id": "11becad8-6506-4f56-b1b9-851bb5f3eef1",
   "metadata": {},
   "outputs": [
    {
     "name": "stdout",
     "output_type": "stream",
     "text": [
      "Top 5 Attacking Teams\n",
      "          team_name  goals_scored\n",
      "0   Manchester City            96\n",
      "1           Arsenal            91\n",
      "2         Liverpool            86\n",
      "6  Newcastle United            85\n",
      "5           Chelsea            77\n",
      "\n",
      "\n",
      "Top 5 Defensive Teams\n",
      "            team_name  goals_conceded\n",
      "1             Arsenal              29\n",
      "0     Manchester City              34\n",
      "2           Liverpool              41\n",
      "14            Everton              51\n",
      "7   Manchester United              58\n",
      "\n",
      "\n",
      "Most Aggressive Teams\n",
      "            team_name  aggression_score  fouls_committed  yellow_cards  \\\n",
      "19   Sheffield United               747              490           101   \n",
      "5             Chelsea               703              450           109   \n",
      "18            Burnley               692              480            81   \n",
      "17         Luton Town               688              470            79   \n",
      "16  Nottingham Forest               661              450            88   \n",
      "\n",
      "    red_cards  \n",
      "19         11  \n",
      "5           7  \n",
      "18         10  \n",
      "17         12  \n",
      "16          7  \n"
     ]
    }
   ],
   "source": [
    "# Top 5 attacking Teams\n",
    "top_5_attacking_teams = team_df.sort_values(by='goals_scored', ascending=False).head(5)\n",
    "print(\"Top 5 Attacking Teams\")\n",
    "print(top_5_attacking_teams[['team_name', 'goals_scored']])\n",
    "\n",
    "print(\"\\n\")\n",
    "\n",
    "# Top 5 defensive Teams\n",
    "top_5_defensive_teams = team_df.sort_values(by='goals_conceded', ascending=True).head(5)\n",
    "print(\"Top 5 Defensive Teams\")\n",
    "print(top_5_defensive_teams[['team_name', 'goals_conceded']])\n",
    "\n",
    "print(\"\\n\")\n",
    "\n",
    "# Most aggressive Teams\n",
    "print(\"Most Aggressive Teams\")\n",
    "team_df['aggression_score'] = (\n",
    "    team_df['fouls_committed'] +\n",
    "    team_df['yellow_cards'] * 2 +\n",
    "    team_df['red_cards'] * 5\n",
    ")\n",
    "\n",
    "most_aggressive_teams = team_df.sort_values(by='aggression_score', ascending=False).head(5)\n",
    "print(most_aggressive_teams[['team_name', 'aggression_score', 'fouls_committed', 'yellow_cards', 'red_cards']])\n",
    "\n"
   ]
  },
  {
   "cell_type": "code",
   "execution_count": null,
   "id": "9c517bbf-181a-4357-a1bf-654d9dbc2225",
   "metadata": {},
   "outputs": [],
   "source": []
  }
 ],
 "metadata": {
  "kernelspec": {
   "display_name": "Python [conda env:base] *",
   "language": "python",
   "name": "conda-base-py"
  },
  "language_info": {
   "codemirror_mode": {
    "name": "ipython",
    "version": 3
   },
   "file_extension": ".py",
   "mimetype": "text/x-python",
   "name": "python",
   "nbconvert_exporter": "python",
   "pygments_lexer": "ipython3",
   "version": "3.12.7"
  }
 },
 "nbformat": 4,
 "nbformat_minor": 5
}
